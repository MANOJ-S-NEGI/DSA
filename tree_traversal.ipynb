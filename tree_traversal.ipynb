{
  "nbformat": 4,
  "nbformat_minor": 0,
  "metadata": {
    "colab": {
      "provenance": [],
      "authorship_tag": "ABX9TyP9Kpuq6fkQrd0IbvlF3DLG",
      "include_colab_link": true
    },
    "kernelspec": {
      "name": "python3",
      "display_name": "Python 3"
    },
    "language_info": {
      "name": "python"
    }
  },
  "cells": [
    {
      "cell_type": "markdown",
      "metadata": {
        "id": "view-in-github",
        "colab_type": "text"
      },
      "source": [
        "<a href=\"https://colab.research.google.com/github/MANOJ-S-NEGI/DSA/blob/main/tree_traversal.ipynb\" target=\"_parent\"><img src=\"https://colab.research.google.com/assets/colab-badge.svg\" alt=\"Open In Colab\"/></a>"
      ]
    },
    {
      "cell_type": "markdown",
      "source": [
        "# LOGIC:\n",
        "\n",
        "#### level order Traversal:\n",
        "\n",
        "* use deque to store the address of current object.\n",
        "* print front\n",
        "* pop front to axcess futher node which will become current pointer object in deque.\n",
        "* if root->left push into dq\n",
        "* if root->right push into dq"
      ],
      "metadata": {
        "id": "_J7b2PQ8HFqw"
      }
    },
    {
      "cell_type": "markdown",
      "source": [
        "```\n",
        "\n",
        "#include<iostream>\n",
        "using namespace std;\n",
        "#include <deque>\n",
        "\n",
        "class Btree\n",
        "{\n",
        "    public:\n",
        "        int value;\n",
        "        Btree *left;\n",
        "        Btree *right;\n",
        "\n",
        "        Btree(int val):value(-1), left(nullptr), right(nullptr)\n",
        "        {\n",
        "            value = val;\n",
        "        }\n",
        "\n",
        "        void preorder()\n",
        "        {\n",
        "            cout << this->value << \" \";\n",
        "            if (left) left->preorder();\n",
        "            if (right) right->preorder();\n",
        "        }\n",
        "\n",
        "        void inorder()\n",
        "        {\n",
        "            if (left) left->inorder();\n",
        "            cout << value << \" \";\n",
        "            if (right) right->inorder();\n",
        "        }\n",
        "\n",
        "        void postorder()\n",
        "        {\n",
        "            if (left) left->postorder();\n",
        "            if (right) right->postorder();\n",
        "            cout << value << \" \";\n",
        "        }\n",
        "\n",
        "        void traversal()\n",
        "        {\n",
        "            deque<Btree*> dq;\n",
        "            dq.push_back(this);\n",
        "            while (!dq.empty())\n",
        "            {\n",
        "                Btree *front_ = dq.front();\n",
        "                dq.pop_front();\n",
        "                cout << front_->value << \" \";\n",
        "                if (front_->left) dq.push_back(front_->left);\n",
        "                if (front_->right) dq.push_back(front_->right);\n",
        "            }\n",
        "        }\n",
        "};\n",
        "\n",
        "int main()\n",
        "{\n",
        "    Btree *super_parent = new Btree(2);\n",
        "    super_parent->left = new Btree(4);\n",
        "    super_parent->left->right = new Btree(6);\n",
        "    super_parent->left->right->left = new Btree(12);\n",
        "    super_parent->left->right->right = new Btree(14);\n",
        "\n",
        "    super_parent->right = new Btree(5);\n",
        "    super_parent->right->left = new Btree(9);\n",
        "    super_parent->right->right = new Btree(10);\n",
        "    super_parent->right->right->left = new Btree(18);\n",
        "\n",
        "    cout << \"Pre Order traversal: \";\n",
        "    super_parent->preorder();\n",
        "    cout << endl;\n",
        "\n",
        "    cout << \"In Order traversal: \";\n",
        "    super_parent->inorder();\n",
        "    cout << endl;\n",
        "\n",
        "    cout << \"Post Order traversal: \";\n",
        "    super_parent->postorder();\n",
        "    cout << endl;\n",
        "\n",
        "    cout << \"Level Order traversal: \";\n",
        "    super_parent->traversal();\n",
        "    cout << endl;\n",
        "\n",
        "\n",
        "    delete super_parent;\n",
        "    return 0;\n",
        "}\n",
        "\n",
        "```"
      ],
      "metadata": {
        "id": "O6Uv4bqkhA_u"
      }
    }
  ]
}